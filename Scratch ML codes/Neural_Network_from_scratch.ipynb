{
 "cells": [
  {
   "cell_type": "markdown",
   "id": "429cbb7a",
   "metadata": {},
   "source": [
    "# Neural Network from scratch"
   ]
  },
  {
   "cell_type": "markdown",
   "id": "0f5f6b86",
   "metadata": {},
   "source": [
    "Importing libraries"
   ]
  },
  {
   "cell_type": "code",
   "execution_count": 29,
   "id": "8603568c",
   "metadata": {
    "scrolled": true
   },
   "outputs": [],
   "source": [
    "import numpy as np\n",
    "import pandas as pd\n",
    "from matplotlib import pyplot as plt"
   ]
  },
  {
   "cell_type": "code",
   "execution_count": 30,
   "id": "a3367720",
   "metadata": {},
   "outputs": [],
   "source": [
    "# Load the training and testing datasets\n",
    "train_data = pd.read_csv('ds2_train.csv')\n",
    "test_data = pd.read_csv('ds2_test.csv')"
   ]
  },
  {
   "cell_type": "code",
   "execution_count": 31,
   "id": "2923a875",
   "metadata": {},
   "outputs": [
    {
     "data": {
      "text/html": [
       "<div>\n",
       "<style scoped>\n",
       "    .dataframe tbody tr th:only-of-type {\n",
       "        vertical-align: middle;\n",
       "    }\n",
       "\n",
       "    .dataframe tbody tr th {\n",
       "        vertical-align: top;\n",
       "    }\n",
       "\n",
       "    .dataframe thead th {\n",
       "        text-align: right;\n",
       "    }\n",
       "</style>\n",
       "<table border=\"1\" class=\"dataframe\">\n",
       "  <thead>\n",
       "    <tr style=\"text-align: right;\">\n",
       "      <th></th>\n",
       "      <th>x_1</th>\n",
       "      <th>x_2</th>\n",
       "      <th>y</th>\n",
       "    </tr>\n",
       "  </thead>\n",
       "  <tbody>\n",
       "    <tr>\n",
       "      <th>0</th>\n",
       "      <td>3.759481</td>\n",
       "      <td>7.507940</td>\n",
       "      <td>0.0</td>\n",
       "    </tr>\n",
       "    <tr>\n",
       "      <th>1</th>\n",
       "      <td>3.422057</td>\n",
       "      <td>4.991203</td>\n",
       "      <td>0.0</td>\n",
       "    </tr>\n",
       "    <tr>\n",
       "      <th>2</th>\n",
       "      <td>2.778818</td>\n",
       "      <td>4.112071</td>\n",
       "      <td>0.0</td>\n",
       "    </tr>\n",
       "    <tr>\n",
       "      <th>3</th>\n",
       "      <td>4.018066</td>\n",
       "      <td>5.653732</td>\n",
       "      <td>0.0</td>\n",
       "    </tr>\n",
       "    <tr>\n",
       "      <th>4</th>\n",
       "      <td>1.806062</td>\n",
       "      <td>4.685966</td>\n",
       "      <td>0.0</td>\n",
       "    </tr>\n",
       "  </tbody>\n",
       "</table>\n",
       "</div>"
      ],
      "text/plain": [
       "        x_1       x_2    y\n",
       "0  3.759481  7.507940  0.0\n",
       "1  3.422057  4.991203  0.0\n",
       "2  2.778818  4.112071  0.0\n",
       "3  4.018066  5.653732  0.0\n",
       "4  1.806062  4.685966  0.0"
      ]
     },
     "execution_count": 31,
     "metadata": {},
     "output_type": "execute_result"
    }
   ],
   "source": [
    "train_data.head()"
   ]
  },
  {
   "cell_type": "markdown",
   "id": "c411cc16",
   "metadata": {},
   "source": [
    "2 input features x_1 and x_2 and 1 output label y\n",
    "\n",
    "clearly due to such less number of parameters the neural network will be simple"
   ]
  },
  {
   "cell_type": "markdown",
   "id": "8034d9b4",
   "metadata": {},
   "source": [
    "Y can either take up 0 or 1 values. Hence binary classified outputs. \n",
    "\n",
    "so let us have one hidden layer only, as the complexity of the problem isnt that high. We choose the activations of the hidden layer to be ReLU instead of linear activations for faster speeds, efficiency and most simplistic output that it provides. \n",
    "\n",
    "The output layer will have only one neuron with a logistic or sigmoid activation since the neural network we need is a binary classifier\n",
    "\n",
    "We can play around and choose the number of neurons for the hidden layer as you will see later in the code. the code is made so that i can adjust the number of neurons in the hidden layer.\n",
    "\n",
    "Now that the structure of the neural network i have coded has been discussed an the intuition behind it, lets see the next blocks of code.\n",
    "\n",
    "I will insert a rough image ive annotated to explain the thought of how this actually represents below"
   ]
  },
  {
   "cell_type": "markdown",
   "id": "ae5dff94",
   "metadata": {},
   "source": [
    "![](onenote_nn_drawing.png)"
   ]
  },
  {
   "cell_type": "markdown",
   "id": "486f0bde",
   "metadata": {},
   "source": [
    "* the input layer has 2 neurons which indicate the 2 input features x1 and x2\n",
    "* the purple connections betweent the input layer and the 1st and only hidden layer(shown in yellow box) are having weights denoted by W1 and biases b1\n",
    "* the hidden layer shown in yellow has n neurons which we will be able to set in code as we will see the in the code later on\n",
    "* the activations of the neurons of the hidden layer have been set to relu activation for its efficiency\n",
    "* the hidden layer is then connected to the output layer with the pink colored connections\n",
    "* these connections have their weights and biases denoted by the ndarrays W2 and b2\n",
    "* the output layer has a single neuron of the logistic or sigmoid activation since the neural network will be a binary classifier as seen.\n",
    "* the forward prop direction is from the input layer towards the output layer to calculate and set the activations and z1 or modulated inputs(inputs modulated by the connection weights and biases)\n",
    "* backprop is done from the output layer towards the input layer to get the gradients\n",
    "* then these are put in the gradient descent's first iteration to optimise and update the weights and biases\n",
    "* the forward and back prop are done in such a manner again and again with newer and newer values of weights and biases set by the gradient descent until convergence is achieved or until the number of gradient descent iterations are exhausted"
   ]
  },
  {
   "cell_type": "code",
   "execution_count": 32,
   "id": "6f043680",
   "metadata": {},
   "outputs": [],
   "source": [
    "# Extract features and labels from the datasets\n",
    "X_train = train_data[['x_1', 'x_2']].values.T\n",
    "Y_train = train_data['y'].values.reshape(1, -1)\n",
    "X_test = test_data[['x_1', 'x_2']].values.T\n",
    "Y_test = test_data['y'].values.reshape(1, -1)"
   ]
  },
  {
   "cell_type": "markdown",
   "id": "fcfe20c8",
   "metadata": {},
   "source": [
    "In the block above, labels and features of test and train dataset are stored into different arrays"
   ]
  },
  {
   "cell_type": "code",
   "execution_count": 33,
   "id": "43543a1d",
   "metadata": {},
   "outputs": [],
   "source": [
    "# Defining activation functions\n",
    "def relu(Z):\n",
    "    return np.maximum(0, Z)\n",
    "\n",
    "def sigmoid(Z):\n",
    "    return 1 / (1 + np.exp(-Z))"
   ]
  },
  {
   "cell_type": "code",
   "execution_count": 34,
   "id": "23f06621",
   "metadata": {},
   "outputs": [],
   "source": [
    "# Initialize parameters function\n",
    "def initialize_params(input_size, hidden_size, output_size):\n",
    "    W1 = np.random.rand(hidden_size, input_size) - 0.5\n",
    "    b1 = np.random.rand(hidden_size, 1) - 0.5\n",
    "    W2 = np.random.rand(output_size, hidden_size) - 0.5\n",
    "    b2 = np.random.rand(output_size, 1) - 0.5\n",
    "    return W1, b1, W2, b2"
   ]
  },
  {
   "cell_type": "markdown",
   "id": "07e8f1d7",
   "metadata": {},
   "source": [
    "We initialise the weights and biases of the connections between the layers in the code block above.\n",
    "\n",
    "We subtract 0.5 for a good reason. Actually np.random.rand gives values between 0 and 1 at random. Now the subtraction changes the range of weights and biases from -0.5 to +0.5 which sets all weights and biases to small values near to zero. \n",
    "\n",
    "If the initial weights are too large, it can lead to exploding gradients, causing slow convergence. But if the initial weights are too small, it can lead to vanishing gradients, where the gradients become extremely small, and the network fails to learn effectively.\n",
    "\n",
    "These intial values will keep getting updated and optimised by gradient descent as we will see later"
   ]
  },
  {
   "cell_type": "code",
   "execution_count": 35,
   "id": "ebd6d245",
   "metadata": {},
   "outputs": [],
   "source": [
    "# Implement forward propagation function\n",
    "def forward_propagation(X, W1, b1, W2, b2):\n",
    "    Z1 = W1.dot(X) + b1\n",
    "    A1 = relu(Z1)\n",
    "    Z2 = W2.dot(A1) + b2\n",
    "    A2 = sigmoid(Z2)\n",
    "    return Z1, A1, Z2, A2"
   ]
  },
  {
   "cell_type": "markdown",
   "id": "48d04286",
   "metadata": {},
   "source": [
    "The updates of forward prop are defined in the forward prop function as shown above\n",
    "\n",
    "As we know, in forward proagation, the input from the outer layer A is linearly modified using the connection weights and biases W and b in order to create a new parameter Z. This Z is passed to the activation function (can be sigmoid, relu, linear, softmax,etc.) of the neurons of the layer and results in the activation outputs of the layer's neurons which serves as input for the next layer."
   ]
  },
  {
   "cell_type": "code",
   "execution_count": 36,
   "id": "7fe54823",
   "metadata": {},
   "outputs": [],
   "source": [
    "# Implement backward propagation function\n",
    "def backward_propagation(X, Y, Z1, A1, Z2, A2, W1, W2):\n",
    "    m = X.shape[1]\n",
    "    dZ2 = A2 - Y\n",
    "    dW2 = (1 / m) * dZ2.dot(A1.T)\n",
    "    db2 = (1 / m) * np.sum(dZ2, axis=1, keepdims=True)\n",
    "    dZ1 = W2.T.dot(dZ2) * (Z1 > 0)\n",
    "    dW1 = (1 / m) * dZ1.dot(X.T)\n",
    "    db1 = (1 / m) * np.sum(dZ1, axis=1, keepdims=True)\n",
    "    return dW1, db1, dW2, db2"
   ]
  },
  {
   "cell_type": "markdown",
   "id": "852622b8",
   "metadata": {},
   "source": [
    "The update rules of backward prop have been used in the backward prop function as shown above."
   ]
  },
  {
   "cell_type": "markdown",
   "id": "125f93b6",
   "metadata": {},
   "source": [
    "Backward prop udate rules unlike the forward prop rules, get updated in the opposite direction. The partial derivative of the error or cost function with respect to a layer's Z is used to calculate this the cost derivative with respect to the same layer's weights and bias (dW and db of that layer). These are outputted to the layer behind, where they serve as an input. These are used to get the derivative of the error with respect to the current layer's Z. this derivative is used to compute the dW and db of this layer which again are outputted to the layer before and so on. "
   ]
  },
  {
   "cell_type": "markdown",
   "id": "9b09453d",
   "metadata": {},
   "source": [
    "The backward prop hence allows us to easily calculate derivatives without complex methods being required to be used."
   ]
  },
  {
   "cell_type": "code",
   "execution_count": 37,
   "id": "3b937cb0",
   "metadata": {},
   "outputs": [],
   "source": [
    "# Update parameters using gradient descent function\n",
    "def update_params(W1, b1, W2, b2, dW1, db1, dW2, db2, learning_rate):\n",
    "    W1 -= learning_rate * dW1\n",
    "    b1 -= learning_rate * db1\n",
    "    W2 -= learning_rate * dW2\n",
    "    b2 -= learning_rate * db2\n",
    "    return W1, b1, W2, b2"
   ]
  },
  {
   "cell_type": "markdown",
   "id": "f9db6741",
   "metadata": {},
   "source": [
    "appling the gradient descent using its update rule on all the weights and biases is shown above"
   ]
  },
  {
   "cell_type": "code",
   "execution_count": 38,
   "id": "c76b5f62",
   "metadata": {},
   "outputs": [],
   "source": [
    "# Train model function definition by utilizing backprop \n",
    "def train_model(X, Y, hidden_size, output_size, num_epochs=1000, learning_rate=0.1):\n",
    "    input_size = X.shape[0]\n",
    "    W1, b1, W2, b2 = initialize_params(input_size, hidden_size, output_size)\n",
    "    \n",
    "    for epoch in range(num_epochs):\n",
    "        Z1, A1, Z2, A2 = forward_propagation(X, W1, b1, W2, b2)\n",
    "        dW1, db1, dW2, db2 = backward_propagation(X, Y, Z1, A1, Z2, A2, W1, W2)\n",
    "        W1, b1, W2, b2 = update_params(W1, b1, W2, b2, dW1, db1, dW2, db2, learning_rate)\n",
    "        \n",
    "        if epoch % 100 == 0:\n",
    "            cost = (-1 / X.shape[1]) * np.sum(Y * np.log(A2) + (1 - Y) * np.log(1 - A2))\n",
    "            print(f\"Epoch {epoch}/{num_epochs}, Cost: {cost:.4f}\")\n",
    "    \n",
    "    return W1, b1, W2, b2"
   ]
  },
  {
   "cell_type": "markdown",
   "id": "c35a8928",
   "metadata": {},
   "source": [
    "we utilise the functions previously defined to create the train model function as shown above which trains the neural network"
   ]
  },
  {
   "cell_type": "markdown",
   "id": "a5a51637",
   "metadata": {},
   "source": [
    "The function will also print the cost every time more 100 ierations are crossed until number of iterations targeted is achieved"
   ]
  },
  {
   "cell_type": "code",
   "execution_count": 39,
   "id": "46d6551f",
   "metadata": {
    "scrolled": true
   },
   "outputs": [
    {
     "name": "stdout",
     "output_type": "stream",
     "text": [
      "Epoch 0/10000, Cost: 0.9343\n",
      "Epoch 100/10000, Cost: 0.2397\n",
      "Epoch 200/10000, Cost: 0.2097\n",
      "Epoch 300/10000, Cost: 0.2049\n",
      "Epoch 400/10000, Cost: 0.2032\n",
      "Epoch 500/10000, Cost: 0.2023\n",
      "Epoch 600/10000, Cost: 0.2017\n",
      "Epoch 700/10000, Cost: 0.2014\n",
      "Epoch 800/10000, Cost: 0.2012\n",
      "Epoch 900/10000, Cost: 0.2010\n",
      "Epoch 1000/10000, Cost: 0.2010\n",
      "Epoch 1100/10000, Cost: 0.2009\n",
      "Epoch 1200/10000, Cost: 0.2009\n",
      "Epoch 1300/10000, Cost: 0.2009\n",
      "Epoch 1400/10000, Cost: 0.2008\n",
      "Epoch 1500/10000, Cost: 0.2008\n",
      "Epoch 1600/10000, Cost: 0.2008\n",
      "Epoch 1700/10000, Cost: 0.2008\n",
      "Epoch 1800/10000, Cost: 0.2008\n",
      "Epoch 1900/10000, Cost: 0.2008\n",
      "Epoch 2000/10000, Cost: 0.2008\n",
      "Epoch 2100/10000, Cost: 0.2008\n",
      "Epoch 2200/10000, Cost: 0.2008\n",
      "Epoch 2300/10000, Cost: 0.2008\n",
      "Epoch 2400/10000, Cost: 0.2008\n",
      "Epoch 2500/10000, Cost: 0.2008\n",
      "Epoch 2600/10000, Cost: 0.2008\n",
      "Epoch 2700/10000, Cost: 0.2008\n",
      "Epoch 2800/10000, Cost: 0.2008\n",
      "Epoch 2900/10000, Cost: 0.2008\n",
      "Epoch 3000/10000, Cost: 0.2008\n",
      "Epoch 3100/10000, Cost: 0.2008\n",
      "Epoch 3200/10000, Cost: 0.2008\n",
      "Epoch 3300/10000, Cost: 0.2008\n",
      "Epoch 3400/10000, Cost: 0.2008\n",
      "Epoch 3500/10000, Cost: 0.2008\n",
      "Epoch 3600/10000, Cost: 0.2008\n",
      "Epoch 3700/10000, Cost: 0.2008\n",
      "Epoch 3800/10000, Cost: 0.2008\n",
      "Epoch 3900/10000, Cost: 0.2008\n",
      "Epoch 4000/10000, Cost: 0.2008\n",
      "Epoch 4100/10000, Cost: 0.2008\n",
      "Epoch 4200/10000, Cost: 0.2008\n",
      "Epoch 4300/10000, Cost: 0.2008\n",
      "Epoch 4400/10000, Cost: 0.2008\n",
      "Epoch 4500/10000, Cost: 0.2008\n",
      "Epoch 4600/10000, Cost: 0.2008\n",
      "Epoch 4700/10000, Cost: 0.2008\n",
      "Epoch 4800/10000, Cost: 0.2008\n",
      "Epoch 4900/10000, Cost: 0.2008\n",
      "Epoch 5000/10000, Cost: 0.2008\n",
      "Epoch 5100/10000, Cost: 0.2008\n",
      "Epoch 5200/10000, Cost: 0.2008\n",
      "Epoch 5300/10000, Cost: 0.2008\n",
      "Epoch 5400/10000, Cost: 0.2008\n",
      "Epoch 5500/10000, Cost: 0.2008\n",
      "Epoch 5600/10000, Cost: 0.2008\n",
      "Epoch 5700/10000, Cost: 0.2008\n",
      "Epoch 5800/10000, Cost: 0.2008\n",
      "Epoch 5900/10000, Cost: 0.2008\n",
      "Epoch 6000/10000, Cost: 0.2008\n",
      "Epoch 6100/10000, Cost: 0.2008\n",
      "Epoch 6200/10000, Cost: 0.2008\n",
      "Epoch 6300/10000, Cost: 0.2008\n",
      "Epoch 6400/10000, Cost: 0.2008\n",
      "Epoch 6500/10000, Cost: 0.2008\n",
      "Epoch 6600/10000, Cost: 0.2008\n",
      "Epoch 6700/10000, Cost: 0.2008\n",
      "Epoch 6800/10000, Cost: 0.2008\n",
      "Epoch 6900/10000, Cost: 0.2008\n",
      "Epoch 7000/10000, Cost: 0.2008\n",
      "Epoch 7100/10000, Cost: 0.2008\n",
      "Epoch 7200/10000, Cost: 0.2008\n",
      "Epoch 7300/10000, Cost: 0.2008\n",
      "Epoch 7400/10000, Cost: 0.2008\n",
      "Epoch 7500/10000, Cost: 0.2008\n",
      "Epoch 7600/10000, Cost: 0.2008\n",
      "Epoch 7700/10000, Cost: 0.2008\n",
      "Epoch 7800/10000, Cost: 0.2008\n",
      "Epoch 7900/10000, Cost: 0.2008\n",
      "Epoch 8000/10000, Cost: 0.2008\n",
      "Epoch 8100/10000, Cost: 0.2008\n",
      "Epoch 8200/10000, Cost: 0.2008\n",
      "Epoch 8300/10000, Cost: 0.2008\n",
      "Epoch 8400/10000, Cost: 0.2008\n",
      "Epoch 8500/10000, Cost: 0.2008\n",
      "Epoch 8600/10000, Cost: 0.2008\n",
      "Epoch 8700/10000, Cost: 0.2008\n",
      "Epoch 8800/10000, Cost: 0.2008\n",
      "Epoch 8900/10000, Cost: 0.2008\n",
      "Epoch 9000/10000, Cost: 0.2008\n",
      "Epoch 9100/10000, Cost: 0.2008\n",
      "Epoch 9200/10000, Cost: 0.2008\n",
      "Epoch 9300/10000, Cost: 0.2008\n",
      "Epoch 9400/10000, Cost: 0.2008\n",
      "Epoch 9500/10000, Cost: 0.2008\n",
      "Epoch 9600/10000, Cost: 0.2008\n",
      "Epoch 9700/10000, Cost: 0.2008\n",
      "Epoch 9800/10000, Cost: 0.2008\n",
      "Epoch 9900/10000, Cost: 0.2008\n"
     ]
    }
   ],
   "source": [
    "# Training the model\n",
    "hidden_size = 10  # You can adjust the number of neurons in the hidden layer as per your requirement\n",
    "output_size = 1 #as only 1 neuron of sigmoid type is required in output\n",
    "num_epochs = 10000\n",
    "learning_rate = 0.1\n",
    "\n",
    "W1, b1, W2, b2 = train_model(X_train, Y_train, hidden_size, output_size, num_epochs, learning_rate)"
   ]
  },
  {
   "cell_type": "code",
   "execution_count": 40,
   "id": "b794c06e",
   "metadata": {},
   "outputs": [],
   "source": [
    "# Make predictions on the test dataset\n",
    "def predict(X, W1, b1, W2, b2):\n",
    "    _, _, _, A2 = forward_propagation(X, W1, b1, W2, b2)\n",
    "    return np.round(A2)"
   ]
  },
  {
   "cell_type": "code",
   "execution_count": 41,
   "id": "95e46f2b",
   "metadata": {},
   "outputs": [
    {
     "name": "stdout",
     "output_type": "stream",
     "text": [
      "Train Accuracy: 91.50%\n",
      "Test Accuracy: 90.00%\n"
     ]
    }
   ],
   "source": [
    "# Evaluate the model\n",
    "def accuracy(Y_pred, Y_true):\n",
    "    return np.mean(Y_pred == Y_true)\n",
    "\n",
    "Y_pred_train = predict(X_train, W1, b1, W2, b2)\n",
    "Y_pred_test = predict(X_test, W1, b1, W2, b2)\n",
    "\n",
    "train_accuracy = accuracy(Y_pred_train, Y_train)\n",
    "test_accuracy = accuracy(Y_pred_test, Y_test)\n",
    "\n",
    "print(f\"Train Accuracy: {train_accuracy:.2%}\")\n",
    "print(f\"Test Accuracy: {test_accuracy:.2%}\")"
   ]
  },
  {
   "cell_type": "markdown",
   "id": "b33a25eb",
   "metadata": {},
   "source": [
    "the above two blocks are self explanatory \n",
    "\n",
    "in the block below we plot the decision boundary found by the neural network"
   ]
  },
  {
   "cell_type": "code",
   "execution_count": 42,
   "id": "8bc75faa",
   "metadata": {
    "scrolled": false
   },
   "outputs": [
    {
     "data": {
      "image/png": "[encoded data removed]",
      "text/plain": [
       "<Figure size 640x480 with 1 Axes>"
      ]
     },
     "metadata": {},
     "output_type": "display_data"
    }
   ],
   "source": [
    "# Visualize the decision boundary\n",
    "def plot_decision_boundary(X, Y, W1, b1, W2, b2):\n",
    "    x1_min, x1_max = X[0, :].min() - 1, X[0, :].max() + 1\n",
    "    x2_min, x2_max = X[1, :].min() - 1, X[1, :].max() + 1\n",
    "    xx1, xx2 = np.meshgrid(np.arange(x1_min, x1_max, 0.1),\n",
    "                           np.arange(x2_min, x2_max, 0.1))\n",
    "    grid = np.c_[xx1.ravel(), xx2.ravel()].T\n",
    "    _, _, _, A2 = forward_propagation(grid, W1, b1, W2, b2)\n",
    "    Z = np.round(A2).reshape(xx1.shape)\n",
    "\n",
    "    plt.contourf(xx1, xx2, Z, alpha=0.3, cmap=plt.cm.Spectral)\n",
    "    plt.scatter(X[0, :], X[1, :], c=Y, cmap=plt.cm.Spectral)\n",
    "    plt.xlabel('x_1')\n",
    "    plt.ylabel('x_2')\n",
    "    plt.title('Decision Boundary')\n",
    "    plt.show()\n",
    "\n",
    "# Plot the decision boundary\n",
    "plot_decision_boundary(X_train, Y_train, W1, b1, W2, b2)"
   ]
  },
  {
   "cell_type": "markdown",
   "id": "7adb46c4",
   "metadata": {},
   "source": [
    "The accuracy achieved with a single hidden layer is already above 90% which is great. \n",
    "\n",
    "more ways to increase this accuracy can be by doing further data preprocessing or adding more hidden layers to the neural networks or hyperparameter tuning\n",
    "\n"
   ]
  },
  {
   "cell_type": "markdown",
   "id": "5e0fec93",
   "metadata": {},
   "source": [
    "## THANK YOU "
   ]
  }
 ],
 "metadata": {
  "kernelspec": {
   "display_name": "Python 3 (ipykernel)",
   "language": "python",
   "name": "python3"
  },
  "language_info": {
   "codemirror_mode": {
    "name": "ipython",
    "version": 3
   },
   "file_extension": ".py",
   "mimetype": "text/x-python",
   "name": "python",
   "nbconvert_exporter": "python",
   "pygments_lexer": "ipython3",
   "version": "3.9.16"
  }
 },
 "nbformat": 4,
 "nbformat_minor": 5
}
